{
 "cells": [
  {
   "cell_type": "code",
   "id": "initial_id",
   "metadata": {
    "collapsed": true
   },
   "source": [
    "import timeit\n",
    "from matplotlib import pyplot as plt\n",
    "from tqdm import tqdm\n",
    "import numpy as np\n",
    "from functools import reduce\n",
    "import operator"
   ],
   "outputs": [],
   "execution_count": null
  },
  {
   "metadata": {
    "ExecuteTime": {
     "end_time": "2025-03-06T12:53:03.713189Z",
     "start_time": "2025-03-06T12:53:02.454919Z"
    }
   },
   "cell_type": "code",
   "source": [
    "from jax import tree_util\n",
    "from graphax.sparse.block import BlockSparseTensor\n",
    "\n",
    "def flatten_block_sparse_tensor(tensor):\n",
    "    children = (tensor.blocks,)\n",
    "    aux_data = (tensor.out_dims, tensor.primal_dims, tensor.out_shape, tensor.primal_shape, tensor.elementary_block_idx, tensor.pre_transforms, tensor.post_transforms)\n",
    "    return children, aux_data\n",
    "\n",
    "def unflatten_block_sparse_tensor(aux_data, children):\n",
    "    blocks, = children\n",
    "    out_dims, primal_dims, out_shape, primal_shape, elementary_block_idx, pre_transforms, post_transforms = aux_data\n",
    "    return BlockSparseTensor(out_dims, primal_dims, out_shape, primal_shape, blocks, elementary_block_idx, pre_transforms, post_transforms)\n",
    "\n",
    "tree_util.register_pytree_node(BlockSparseTensor, flatten_block_sparse_tensor, unflatten_block_sparse_tensor)"
   ],
   "id": "910df4a76b746ab4",
   "outputs": [],
   "execution_count": 1
  },
  {
   "metadata": {
    "ExecuteTime": {
     "end_time": "2025-03-06T12:53:04.272260Z",
     "start_time": "2025-03-06T12:53:03.872591Z"
    }
   },
   "cell_type": "code",
   "source": [
    "from jax import jit, make_jaxpr\n",
    "from graphax.sparse.block import BlockSparseTensor, SparseDimension, new_block_sparse_tensor\n",
    "import jax.random as jrand\n",
    "\n",
    "block_nums = 10\n",
    "block_size = 10\n",
    "k1, k2 = jrand.split(jrand.PRNGKey(42), 2)\n",
    "x_blocks = jrand.normal(k1, (block_nums, block_size, block_size))\n",
    "y_blocks = jrand.normal(k2, (block_nums, block_size, block_size))\n",
    "x = new_block_sparse_tensor([SparseDimension(0, block_nums, 0, 1, 0)], [SparseDimension(1, block_nums, 0, 0, 1)], x_blocks)\n",
    "print(\"###\")\n",
    "y = new_block_sparse_tensor([SparseDimension(0, block_nums, 0, 1, 0)], [SparseDimension(1, block_nums, 0, 0, 1)], y_blocks)\n",
    "print(\"---\")\n",
    "\n",
    "def matmul(a, b):\n",
    "    return a @ b\n",
    "\n",
    "jit_matmul = jit(matmul)\n",
    "\n",
    "jaxpr = make_jaxpr(jit_matmul)(x, y)\n",
    "# print(jit_matmul(x,y))\n",
    "print(jaxpr)\n"
   ],
   "id": "c52201d53535bf66",
   "outputs": [
    {
     "name": "stdout",
     "output_type": "stream",
     "text": [
      "###\n",
      "---\n",
      "{ lambda ; a:f32[10,10,10] b:f32[10,10,10]. let\n",
      "    c:f32[10,10,10] = pjit[\n",
      "      name=matmul\n",
      "      jaxpr={ lambda ; d:f32[10,10,10] e:f32[10,10,10]. let\n",
      "          f:f32[10,10,10] = dot_general[\n",
      "            dimension_numbers=(([2], [1]), ([0], [0]))\n",
      "            preferred_element_type=float32\n",
      "          ] d e\n",
      "        in (f,) }\n",
      "    ] a b\n",
      "  in (c,) }\n"
     ]
    }
   ],
   "execution_count": 2
  },
  {
   "metadata": {
    "ExecuteTime": {
     "end_time": "2025-03-06T12:53:04.651337Z",
     "start_time": "2025-03-06T12:53:04.386452Z"
    }
   },
   "cell_type": "code",
   "source": [
    "res = (x@y).dense()\n",
    "dense_res=x.dense()@y.dense()"
   ],
   "id": "2c11497620355483",
   "outputs": [],
   "execution_count": 3
  },
  {
   "metadata": {
    "ExecuteTime": {
     "end_time": "2025-03-06T12:53:04.731618Z",
     "start_time": "2025-03-06T12:53:04.678494Z"
    }
   },
   "cell_type": "code",
   "source": [
    "import jax.numpy as jnp\n",
    "eq=jnp.isclose(res, dense_res)\n",
    "eq.all()"
   ],
   "id": "d182e5f30125463c",
   "outputs": [
    {
     "data": {
      "text/plain": [
       "Array(True, dtype=bool)"
      ]
     },
     "execution_count": 4,
     "metadata": {},
     "output_type": "execute_result"
    }
   ],
   "execution_count": 4
  },
  {
   "metadata": {},
   "cell_type": "code",
   "source": "delta = abs(res - dense_res).flatten()",
   "id": "2f5a9c2071b9f3ed",
   "outputs": [],
   "execution_count": null
  },
  {
   "metadata": {},
   "cell_type": "code",
   "source": "[x for x in abs(res - dense_res).flatten() if x != 0]",
   "id": "b4afa0ff73248c70",
   "outputs": [],
   "execution_count": null
  },
  {
   "metadata": {},
   "cell_type": "code",
   "source": [
    "import json\n",
    "import os\n",
    "import ast\n",
    "\n",
    "res = {}\n",
    "for run in os.listdir('data'):\n",
    "    with open('data/' + run, \"r\") as f:\n",
    "        cur = json.load(f)\n",
    "    \n",
    "    name = run.split('.', 2)[0]\n",
    "    res_d1 = res[name] = {}\n",
    "    \n",
    "    for key1, val1 in list(cur.items()):\n",
    "        key1 = ast.literal_eval(key1)\n",
    "        res_d2 = res_d1[key1] = {}\n",
    "        \n",
    "        for key2, val2 in list(val1.items()):\n",
    "        \n",
    "            if name.endswith('_mul_sum'):\n",
    "                val2 = tuple(val2)\n",
    "            key2 = ast.literal_eval(key2)\n",
    "            res_d2[key2] = val2"
   ],
   "id": "7785cbca1ad20b77",
   "outputs": [],
   "execution_count": null
  },
  {
   "metadata": {},
   "cell_type": "code",
   "source": [
    "def get_title(key: str):\n",
    "    return ' '.join([x if x.isupper() else x.capitalize() for x in key.split('_') ])"
   ],
   "id": "86911209f4f6d802",
   "outputs": [],
   "execution_count": null
  },
  {
   "metadata": {},
   "cell_type": "code",
   "source": [
    "first_layer_keys = res.keys()\n",
    "mul_sum_keys = set(key for key in first_layer_keys if key.endswith('mul_sum'))\n",
    "exp_data_keys = first_layer_keys - mul_sum_keys\n",
    "stat_operator = np.median"
   ],
   "id": "2618962cda5a4fd7",
   "outputs": [],
   "execution_count": null
  },
  {
   "metadata": {},
   "cell_type": "code",
   "source": [
    "# Test memory at some point maybe even test time\n",
    "# Test on CPU"
   ],
   "id": "5c2989582b54c3fe",
   "outputs": [],
   "execution_count": null
  },
  {
   "metadata": {},
   "cell_type": "code",
   "source": [
    "block_shape_to_plot = (100, 100)\n",
    "blocks = {key: [] for key in exp_data_keys}\n",
    "times = {key: [] for key in exp_data_keys}\n",
    "\n",
    "for key in exp_data_keys:\n",
    "    for non_block_shape, block_shapes in res[key].items():\n",
    "        if block_shape_to_plot in block_shapes:\n",
    "            blocks[key].append(reduce(operator.mul, non_block_shape))\n",
    "        times[key].append(stat_operator(block_shapes[block_shape_to_plot]))\n",
    "    b, t = zip(*sorted(zip(blocks[key], times[key])))\n",
    "    blocks[key] = np.array(b)\n",
    "    times[key] = np.array(t)\n",
    "\n",
    "plt.figure(figsize=(10, 6))\n",
    "\n",
    "for key in exp_data_keys:\n",
    "    plt.plot(blocks[key], times[key], marker='o', label=get_title(key))\n",
    "\n",
    "plt.xlabel(\"Number of Blocks\")\n",
    "plt.ylabel(\"Time (seconds)\")\n",
    "plt.title(f\"Time vs. Number of Blocks\\n(Block shape = {block_shape_to_plot})\")\n",
    "plt.xscale(\"log\")\n",
    "plt.yscale(\"log\")\n",
    "plt.legend()\n",
    "plt.grid(True)\n",
    "plt.show()"
   ],
   "id": "d67d2efcc143e87b",
   "outputs": [],
   "execution_count": null
  },
  {
   "metadata": {},
   "cell_type": "code",
   "source": [
    "block_shape_to_plot = (100,100)\n",
    "blocks = {key: [] for key in mul_sum_keys}\n",
    "times = {key: [] for key in mul_sum_keys}\n",
    "\n",
    "for key in mul_sum_keys:\n",
    "    for non_block_shape, block_shapes in res[key].items():\n",
    "        if block_shape_to_plot in block_shapes:\n",
    "            blocks[key].append(reduce(operator.mul, non_block_shape))\n",
    "            times[key].append(np.sum(block_shapes[block_shape_to_plot]))\n",
    "    b, t = zip(*sorted(zip(blocks[key], times[key])))\n",
    "    blocks[key] = np.array(b)\n",
    "    times[key] = np.array(t)\n",
    "\n",
    "plt.figure(figsize=(10, 6))\n",
    "\n",
    "for key in mul_sum_keys:\n",
    "    plt.plot(blocks[key], times[key], label=get_title(key.split('_',2)[0]))\n",
    "\n",
    "plt.xlabel(\"Number of Blocks\")\n",
    "plt.ylabel(\"Operations\")\n",
    "plt.title(f\"Operations vs. Number of Blocks\\n(Block shape = {block_shape_to_plot})\")\n",
    "plt.xscale(\"log\")\n",
    "plt.yscale(\"log\")\n",
    "plt.legend()\n",
    "plt.grid(True)\n",
    "plt.show()"
   ],
   "id": "69988fbcfce534ef",
   "outputs": [],
   "execution_count": null
  },
  {
   "metadata": {},
   "cell_type": "code",
   "source": [
    "non_block_shape_to_plot = (100,)\n",
    "blocks = {key: [] for key in exp_data_keys}\n",
    "times = {key: [] for key in exp_data_keys}\n",
    "\n",
    "for key in exp_data_keys:\n",
    "    if non_block_shape_to_plot in res[key]:\n",
    "        block_shapes = res[key][non_block_shape_to_plot]\n",
    "        for block_shape in block_shapes:\n",
    "            blocks[key].append(reduce(operator.mul, block_shape))\n",
    "            times[key].append(stat_operator(block_shapes[block_shape]))\n",
    "    b, t = zip(*sorted(zip(blocks[key], times[key])))\n",
    "    blocks[key] = np.array(b)\n",
    "    times[key] = np.array(t)\n",
    "        \n",
    "\n",
    "\n",
    "plt.figure(figsize=(10, 6))\n",
    "\n",
    "for key in exp_data_keys:\n",
    "    plt.plot(blocks[key], times[key], marker='o', label=get_title(key))\n",
    "    \n",
    "plt.xlabel(\"Block Size\")\n",
    "plt.ylabel(\"Time (seconds)\")\n",
    "plt.title(f\"Time vs. Block Size\\n(Non-Blocks = {non_block_shape_to_plot})\")\n",
    "plt.xscale(\"log\")\n",
    "plt.yscale(\"log\")\n",
    "plt.legend()\n",
    "plt.grid(True)\n",
    "plt.show()"
   ],
   "id": "dceb4cf5f05ea80b",
   "outputs": [],
   "execution_count": null
  },
  {
   "metadata": {},
   "cell_type": "code",
   "source": [
    "non_block_shape_to_plot = (100,)\n",
    "blocks = {key: [] for key in mul_sum_keys}\n",
    "times = {key: [] for key in mul_sum_keys}\n",
    "\n",
    "for key in mul_sum_keys:\n",
    "    if non_block_shape_to_plot in res[key]:\n",
    "        block_shapes = res[key][non_block_shape_to_plot]\n",
    "        for block_shape in block_shapes:\n",
    "            blocks[key].append(reduce(operator.mul, block_shape))\n",
    "            times[key].append(stat_operator(block_shapes[block_shape]))\n",
    "    b, t = zip(*sorted(zip(blocks[key], times[key])))\n",
    "    blocks[key] = np.array(b)\n",
    "    times[key] = np.array(t)\n",
    "\n",
    "\n",
    "plt.figure(figsize=(10, 6))\n",
    "\n",
    "for key in mul_sum_keys:\n",
    "    plt.plot(blocks[key], times[key], label=get_title(key.split('_',2)[0]))\n",
    "    \n",
    "plt.xlabel(\"Block Size\")\n",
    "plt.ylabel(\"Operations\")\n",
    "plt.title(f\"Operations vs. Block Size\\n(Blocks = {non_block_shape_to_plot})\")\n",
    "plt.xscale(\"log\")\n",
    "plt.yscale(\"log\")\n",
    "plt.legend()\n",
    "plt.grid(True)\n",
    "plt.show()"
   ],
   "id": "8c3e4e7cdff3f29f",
   "outputs": [],
   "execution_count": null
  },
  {
   "metadata": {},
   "cell_type": "code",
   "source": [
    "import numpy as np\n",
    "import seaborn as sns\n",
    "import matplotlib.pyplot as plt\n",
    "\n",
    "heatmap_data = {key: [] for key in exp_data_keys}   \n",
    "non_block_shapes_labels = sorted(next(iter(res.values())).keys())\n",
    "block_shapes_labels = sorted(next(iter(next(iter(res.values())).values())))\n",
    "\n",
    "for non_block_shapes in non_block_shapes_labels:\n",
    "    rows = {key: [] for key in exp_data_keys}\n",
    "    for block_shape in block_shapes_labels:\n",
    "        for key in exp_data_keys:\n",
    "            if block_shape in res[key][non_block_shapes]:\n",
    "                rows[key].append(stat_operator(res[key][non_block_shapes][block_shape]))\n",
    "            else:\n",
    "                rows[key].append(np.nan)\n",
    "    for key in exp_data_keys:\n",
    "        heatmap_data[key].append(rows[key])\n",
    "for key in exp_data_keys:\n",
    "    heatmap_data[key] = np.array(heatmap_data[key])\n",
    "    \n",
    "fig, axes = plt.subplots(-(len(exp_data_keys)//-2), 2, figsize=(14, 12))\n",
    "\n",
    "vmax = min([np.quantile(heatmap_data[key], 0.8) for key in exp_data_keys])\n",
    "vmin = max([np.quantile(heatmap_data[key], 0.2) for key in exp_data_keys])\n",
    "\n",
    "for i, key in enumerate(exp_data_keys):\n",
    "    if len(exp_data_keys) >= 2:\n",
    "        idx = [i // 2, i % 2]\n",
    "    else:\n",
    "        idx = [i]\n",
    "    \n",
    "    sns.heatmap(\n",
    "        heatmap_data[key],\n",
    "        ax=axes[*idx],\n",
    "        xticklabels=block_shapes_labels,\n",
    "        yticklabels=non_block_shapes_labels,\n",
    "        vmin=vmin,\n",
    "        vmax=vmax,\n",
    "        norm=plt.matplotlib.colors.LogNorm(),\n",
    "        cmap=\"viridis\",\n",
    "        cbar_kws={\"label\": \"Time (seconds)\"}\n",
    "    )\n",
    "    axes[*idx].set_xlabel(\"Non-Block Shape\")\n",
    "    axes[*idx].set_ylabel(\"Block Shape\")\n",
    "    axes[*idx].set_title(get_title(key))\n",
    "\n",
    "if len(exp_data_keys) % 2:\n",
    "    if len(exp_data_keys) >= 2:\n",
    "        last_idx = [-(len(exp_data_keys)//-2) - 1, 1]\n",
    "    else:\n",
    "        last_idx = [1]\n",
    "    axes[*last_idx].axis('off')\n",
    "\n",
    "plt.tight_layout()\n",
    "\n",
    "plt.show()"
   ],
   "id": "74f024bbb535ada6",
   "outputs": [],
   "execution_count": null
  },
  {
   "metadata": {},
   "cell_type": "code",
   "source": [
    "data = {key: {'time': [], 'ops': []} for key in exp_data_keys}  \n",
    "for key1 in exp_data_keys:\n",
    "    for key2, val2 in res[key1].items():\n",
    "        for key3, val3 in val2.items():\n",
    "            if key1.endswith('sparse'):\n",
    "                if 'sparse_mul_sum' in res[key1]:\n",
    "                    continue\n",
    "            if key1.endswith('sparse'):\n",
    "                ops = sum(res['sparse_mul_sum'][key2][key3])\n",
    "            else:\n",
    "                ops = sum(res['dense_mul_sum'][key2][key3])\n",
    "            data[key1]['ops'].append(ops)\n",
    "            data[key1]['time'].append(stat_operator(val3))\n",
    "\n",
    "plt.figure(figsize=(10, 6))\n",
    "\n",
    "for key in exp_data_keys:\n",
    "    plt.scatter(data[key]['ops'], data[key]['time'], label=key.replace('_',' ').title(), marker=\"o\")\n",
    "\n",
    "# Customize the plot\n",
    "plt.title(\"Median Runtimes vs Operations\")\n",
    "plt.xlabel(\"Number of Operations\")\n",
    "plt.ylabel(\"Median Runtime\")\n",
    "plt.xscale(\"log\")\n",
    "plt.yscale(\"log\")\n",
    "plt.legend()\n",
    "plt.grid(True)\n",
    "plt.show()"
   ],
   "id": "a853d2d981d1667d",
   "outputs": [],
   "execution_count": null
  },
  {
   "metadata": {},
   "cell_type": "code",
   "source": "",
   "id": "30eb8bb8762b4871",
   "outputs": [],
   "execution_count": null
  }
 ],
 "metadata": {
  "kernelspec": {
   "display_name": "Python 3",
   "language": "python",
   "name": "python3"
  },
  "language_info": {
   "codemirror_mode": {
    "name": "ipython",
    "version": 2
   },
   "file_extension": ".py",
   "mimetype": "text/x-python",
   "name": "python",
   "nbconvert_exporter": "python",
   "pygments_lexer": "ipython2",
   "version": "2.7.6"
  }
 },
 "nbformat": 4,
 "nbformat_minor": 5
}
